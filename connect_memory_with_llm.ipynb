{
 "cells": [
  {
   "cell_type": "code",
   "execution_count": null,
   "metadata": {},
   "outputs": [],
   "source": [
    "import os"
   ]
  },
  {
   "cell_type": "code",
   "execution_count": 2,
   "metadata": {},
   "outputs": [],
   "source": [
    "from dotenv import load_dotenv\n",
    "load_dotenv()\n",
    "HF_TOKEN=os.getenv(\"HF_TOKEN\")"
   ]
  },
  {
   "cell_type": "code",
   "execution_count": 3,
   "metadata": {},
   "outputs": [],
   "source": [
    "HUGGINGFACE_REPO_ID=\"mistralai/Mistral-7B-Instruct-v0.3\""
   ]
  },
  {
   "cell_type": "markdown",
   "metadata": {},
   "source": [
    "# Setup LLM (Mistral with huggingface)"
   ]
  },
  {
   "cell_type": "code",
   "execution_count": 23,
   "metadata": {},
   "outputs": [],
   "source": [
    "from langchain_huggingface import HuggingFaceEndpoint\n",
    "from langchain_core.prompts import PromptTemplate\n",
    "from langchain.chains import RetrievalQA\n",
    "from langchain_huggingface import HuggingFaceEmbeddings"
   ]
  },
  {
   "cell_type": "code",
   "execution_count": 4,
   "metadata": {},
   "outputs": [],
   "source": [
    "def load_llm(huggingface_repo_id):\n",
    "    llm=HuggingFaceEndpoint(\n",
    "        repo_id=huggingface_repo_id,\n",
    "        temperature=0.5,\n",
    "        model_kwargs={\"token\":HF_TOKEN,\n",
    "                      \"max_length\":512}\n",
    "    )\n",
    "    return llm"
   ]
  },
  {
   "cell_type": "markdown",
   "metadata": {},
   "source": [
    "# Connect LLM With FAISS and Create chain"
   ]
  },
  {
   "cell_type": "markdown",
   "metadata": {},
   "source": [
    "Create custom prompt"
   ]
  },
  {
   "cell_type": "code",
   "execution_count": 5,
   "metadata": {},
   "outputs": [],
   "source": [
    "CUSTOM_PROMPT_TEMPLATE = \"\"\"\n",
    "Use the pieces of information provided in the context to answer user's question.\n",
    "If you dont know the answer, just say that you dont know, dont try to make up an answer.\n",
    "Dont provide anything out of the given context\n",
    "\n",
    "Context:{context}\n",
    "Question:{question}\n",
    "\n",
    "Start the answer directly. No small talk please.\n",
    "\"\"\""
   ]
  },
  {
   "cell_type": "code",
   "execution_count": 6,
   "metadata": {},
   "outputs": [],
   "source": [
    "def set_custom_prompt(custom_prompt_template):\n",
    "    promt=PromptTemplate(template=custom_prompt_template, input_variables=['context','question'])\n",
    "    return promt"
   ]
  },
  {
   "cell_type": "markdown",
   "metadata": {},
   "source": [
    "Load Database"
   ]
  },
  {
   "cell_type": "code",
   "execution_count": 7,
   "metadata": {},
   "outputs": [],
   "source": [
    "from langchain_community.vectorstores import FAISS"
   ]
  },
  {
   "cell_type": "code",
   "execution_count": 8,
   "metadata": {},
   "outputs": [],
   "source": [
    "DB_FAISS_PATH='vectorstore/db_faiss'"
   ]
  },
  {
   "cell_type": "code",
   "execution_count": 9,
   "metadata": {},
   "outputs": [
    {
     "name": "stderr",
     "output_type": "stream",
     "text": [
      "c:\\Users\\Deep\\.conda\\envs\\vitabot\\Lib\\site-packages\\tqdm\\auto.py:21: TqdmWarning: IProgress not found. Please update jupyter and ipywidgets. See https://ipywidgets.readthedocs.io/en/stable/user_install.html\n",
      "  from .autonotebook import tqdm as notebook_tqdm\n"
     ]
    }
   ],
   "source": [
    "embedding_model=HuggingFaceEmbeddings(model_name=\"sentence-transformers/all-MiniLM-L6-v2\")"
   ]
  },
  {
   "cell_type": "code",
   "execution_count": 10,
   "metadata": {},
   "outputs": [],
   "source": [
    "db=FAISS.load_local(DB_FAISS_PATH, embedding_model, allow_dangerous_deserialization=True)"
   ]
  },
  {
   "cell_type": "markdown",
   "metadata": {},
   "source": [
    "Create QA Chain"
   ]
  },
  {
   "cell_type": "code",
   "execution_count": 21,
   "metadata": {},
   "outputs": [
    {
     "name": "stderr",
     "output_type": "stream",
     "text": [
      "Note: Environment variable`HF_TOKEN` is set and is the current active token independently from the token you've just configured.\n"
     ]
    }
   ],
   "source": [
    "qa_chain=RetrievalQA.from_chain_type(\n",
    "    llm=load_llm(HUGGINGFACE_REPO_ID),\n",
    "    chain_type=\"stuff\",\n",
    "    retriever=db.as_retriever(search_kwargs={'k':50}),\n",
    "    return_source_documents=True,\n",
    "    chain_type_kwargs={'prompt':set_custom_prompt(CUSTOM_PROMPT_TEMPLATE)}\n",
    ")"
   ]
  },
  {
   "cell_type": "markdown",
   "metadata": {},
   "source": [
    "Invoke with a single query"
   ]
  },
  {
   "cell_type": "code",
   "execution_count": 22,
   "metadata": {},
   "outputs": [
    {
     "name": "stderr",
     "output_type": "stream",
     "text": [
      "c:\\Users\\Deep\\.conda\\envs\\vitabot\\Lib\\site-packages\\huggingface_hub\\utils\\_deprecation.py:131: FutureWarning: 'post' (from 'huggingface_hub.inference._client') is deprecated and will be removed from version '0.31.0'. Making direct POST requests to the inference server is not supported anymore. Please use task methods instead (e.g. `InferenceClient.chat_completion`). If your use case is not supported, please open an issue in https://github.com/huggingface/huggingface_hub.\n",
      "  warnings.warn(warning_message, FutureWarning)\n"
     ]
    },
    {
     "name": "stdout",
     "output_type": "stream",
     "text": [
      "RESULT: The best football player is a subjective matter as it depends on individual preferences and opinions. Some popular football players include Lionel Messi, Cristiano Ronaldo, and Neymar Jr. These players are considered to be among the best due to their exceptional skills, goal-scoring abilities, and overall impact on the game. However, there are many other talented players in football, and opinions may vary.\n",
      "Source Document: [Document(id='c3877dcf-26c7-436b-be66-2bdca3f248e0', metadata={'producer': 'GPL Ghostscript 9.10', 'creator': '', 'creationdate': '2017-05-01T10:37:35-07:00', 'moddate': '2017-05-01T10:37:35-07:00', 'title': '', 'author': '', 'subject': '', 'keywords': '', 'source': 'data\\\\The_GALE_ENCYCLOPEDIA_of_MEDICINE_SECOND (1).pdf', 'total_pages': 759, 'page': 268, 'page_label': '269'}, page_content='belts and air bags in automobiles, and helmets in all con-\\ntact sports. Helmets should also be worn when bicycling,\\nskiing, or horseback riding. Soccer players should avoid\\nheading the ball when it is kicked at high velocity from\\nclose range. Playground equipment should be underlaid\\nwith soft material, either sand or special matting.\\nThe value of high-contact sports such as boxing,\\nfootball, or hockey should be weighed against the high\\nrisk of brain injury during a young person’s participation'), Document(id='997bd5a5-71ba-477b-a702-aa4a7a37fff6', metadata={'producer': 'GPL Ghostscript 9.10', 'creator': '', 'creationdate': '2017-05-01T10:37:35-07:00', 'moddate': '2017-05-01T10:37:35-07:00', 'title': '', 'author': '', 'subject': '', 'keywords': '', 'source': 'data\\\\The_GALE_ENCYCLOPEDIA_of_MEDICINE_SECOND (1).pdf', 'total_pages': 759, 'page': 267, 'page_label': '268'}, page_content='hockey, and boxing, are among those most likely to lead\\nto concussion. Other significant causes include falls, col-\\nlisions, or blows due to bicycling, horseback riding, ski-\\ning, and soccer.\\nThe risk of concussion from football is extremely\\nhigh, especially at the high school level. Studies show\\nthat approximately one in five players suffer concussion\\nor more serious brain injury during their brief high-\\nschool careers. The rate at the collegiate level is approxi-'), Document(id='820fa6cd-6efb-4ef3-a68e-9c682f810f02', metadata={'producer': 'GPL Ghostscript 9.10', 'creator': '', 'creationdate': '2017-05-01T10:37:35-07:00', 'moddate': '2017-05-01T10:37:35-07:00', 'title': '', 'author': '', 'subject': '', 'keywords': '', 'source': 'data\\\\The_GALE_ENCYCLOPEDIA_of_MEDICINE_SECOND (1).pdf', 'total_pages': 759, 'page': 268, 'page_label': '269'}, page_content='arise or worsen. If headaches or other symptoms worsen or\\nlast longer than one week, a CT or MRI scan should be per-\\nformed. Contact sports are avoided for one week following\\nunconsciousness of only seconds, and for two weeks for\\nunconsciousness of a minute or more. A person receiving a\\nsecond grade 3 concussion should avoid contact sports for\\nat least a month after all symptoms have cleared, and then\\nonly with the approval of a physician. If signs of brain'), Document(id='88d2df86-a17a-4c03-aaf8-2e0e29f2d178', metadata={'producer': 'GPL Ghostscript 9.10', 'creator': '', 'creationdate': '2017-05-01T10:37:35-07:00', 'moddate': '2017-05-01T10:37:35-07:00', 'title': '', 'author': '', 'subject': '', 'keywords': '', 'source': 'data\\\\The_GALE_ENCYCLOPEDIA_of_MEDICINE_SECOND (1).pdf', 'total_pages': 759, 'page': 599, 'page_label': '600'}, page_content='Antibodies—Proteins that are formed by the body\\nand play a role in defense against infection.\\nAntibiotic—A medication that is designed to kill\\nor weaken bacteria.\\nMeninges—Outer covering of the spinal cord and\\nbrain. Infection is called meningitis, which can\\nlead to damage to the brain or spinal cord and\\nlead to death.\\nthat affect antibody production can develop chronic\\ninfection of the brain or meninges.\\nPrevention\\nIn the hospital setting, the best means of avoiding'), Document(id='b11fad25-b12c-404b-a4e1-084cf7087eb5', metadata={'producer': 'GPL Ghostscript 9.10', 'creator': '', 'creationdate': '2017-05-01T10:37:35-07:00', 'moddate': '2017-05-01T10:37:35-07:00', 'title': '', 'author': '', 'subject': '', 'keywords': '', 'source': 'data\\\\The_GALE_ENCYCLOPEDIA_of_MEDICINE_SECOND (1).pdf', 'total_pages': 759, 'page': 266, 'page_label': '267'}, page_content='decelerates or stops, which causes the brain to be jarred\\nagainst the skull. Contact sports, especially football,\\nGALE ENCYCLOPEDIA OF MEDICINE 2878\\nConcussion'), Document(id='ea7186d4-25d3-45c3-b755-90274771207e', metadata={'producer': 'GPL Ghostscript 9.10', 'creator': '', 'creationdate': '2017-05-01T10:37:35-07:00', 'moddate': '2017-05-01T10:37:35-07:00', 'title': '', 'author': '', 'subject': '', 'keywords': '', 'source': 'data\\\\The_GALE_ENCYCLOPEDIA_of_MEDICINE_SECOND (1).pdf', 'total_pages': 759, 'page': 77, 'page_label': '78'}, page_content='tion. The spine and brain are sheathed in tough, protec-\\ntive membranes. The outermost membrane, the dura\\nmater, and the next layer, the arachnoid, entirely encase\\nthe brain and spinal cord. However, these defenses are\\nnot absolute. In rare cases, bacteria gain access to areas\\nwithin the CNS.\\nGALE ENCYCLOPEDIA OF MEDICINE 2 689\\nCentral nervous system infections'), Document(id='1a7fc052-6173-4656-bc28-647852486033', metadata={'producer': 'GPL Ghostscript 9.10', 'creator': '', 'creationdate': '2017-05-01T10:37:35-07:00', 'moddate': '2017-05-01T10:37:35-07:00', 'title': '', 'author': '', 'subject': '', 'keywords': '', 'source': 'data\\\\The_GALE_ENCYCLOPEDIA_of_MEDICINE_SECOND (1).pdf', 'total_pages': 759, 'page': 381, 'page_label': '382'}, page_content='affect the prostate gland. Fluoroquinolone antibiotics\\nor trimethoprim are the drugs of choice for these\\npatients.\\nPatients with pyelonephritis can be treated with oral\\nantibiotics or intramuscular doses of cephalosporins.\\nMedications are given for 10–14 days, and sometimes\\nlonger. If the patient requires hospitalization because of\\nhigh fever and dehydration caused by vomiting, antibi-\\notics can be given intravenously.\\nSurgery\\nA minority of women with complicated UTIs may'), Document(id='dd0fcf91-af50-436a-8508-051348cf11a0', metadata={'producer': 'GPL Ghostscript 9.10', 'creator': '', 'creationdate': '2017-05-01T10:37:35-07:00', 'moddate': '2017-05-01T10:37:35-07:00', 'title': '', 'author': '', 'subject': '', 'keywords': '', 'source': 'data\\\\The_GALE_ENCYCLOPEDIA_of_MEDICINE_SECOND (1).pdf', 'total_pages': 759, 'page': 2, 'page_label': '3'}, page_content='copyright laws, as well as by misappropriation, trade secret, unfair com-\\npetition, and other applicable laws. The authors and editor of this work\\nhave added value to the underlying factual material herein through one\\nor more of the following: unique and original selection, coordination,\\nexpression, arrangement, and classification of the information.\\nGale Group and design is a trademark used herein under license.\\nAll rights to this publication will be vigorously defended.\\nCopyright © 2002'), Document(id='7bad8a1b-cb6c-4908-b362-f3d187f042a9', metadata={'producer': 'GPL Ghostscript 9.10', 'creator': '', 'creationdate': '2017-05-01T10:37:35-07:00', 'moddate': '2017-05-01T10:37:35-07:00', 'title': '', 'author': '', 'subject': '', 'keywords': '', 'source': 'data\\\\The_GALE_ENCYCLOPEDIA_of_MEDICINE_SECOND (1).pdf', 'total_pages': 759, 'page': 656, 'page_label': '657'}, page_content='the eyeball.\\nOrbit—The cavity in the skull containing the eye-\\nball; formed from seven bones: frontal, maxillary,\\nsphenoid, lacrimal, zygomatic, ethmoid, and pala-\\ntine.\\nRetina—The inner, light-sensitive layer of the eye\\ncontaining rods and cones; transforms the image it\\nreceives into electrical messages sent to the brain\\nvia the optic nerve.\\nSclera—The tough, fibrous, white outer protective\\ncovering of the eyeball.\\nStrabismus—A disorder where the two eyes do not\\npoint in the same direction.'), Document(id='99919869-08ec-4b7c-955d-a8ae6ea8ed56', metadata={'producer': 'GPL Ghostscript 9.10', 'creator': '', 'creationdate': '2017-05-01T10:37:35-07:00', 'moddate': '2017-05-01T10:37:35-07:00', 'title': '', 'author': '', 'subject': '', 'keywords': '', 'source': 'data\\\\The_GALE_ENCYCLOPEDIA_of_MEDICINE_SECOND (1).pdf', 'total_pages': 759, 'page': 210, 'page_label': '211'}, page_content='most common varieties have been described. A clubfoot\\nhas a typical appearance of pointing downward and\\nGALE ENCYCLOPEDIA OF MEDICINE 2\\n822\\nClubfoot'), Document(id='8f5fd262-ee83-453e-a09d-e634da609250', metadata={'producer': 'GPL Ghostscript 9.10', 'creator': '', 'creationdate': '2017-05-01T10:37:35-07:00', 'moddate': '2017-05-01T10:37:35-07:00', 'title': '', 'author': '', 'subject': '', 'keywords': '', 'source': 'data\\\\The_GALE_ENCYCLOPEDIA_of_MEDICINE_SECOND (1).pdf', 'total_pages': 759, 'page': 441, 'page_label': '442'}, page_content='Diagnosis\\nA physician who specializes in the treatment of the\\nfoot (podiatrist) or the doctor who normally treats the\\npatient’s diabetes will treat the infection. An x ray of the\\nfoot will be taken to determine whether the bone has\\nbecome infected. A sample from the wound will be cul-\\ntured to identify the organism that is causing the infec-\\ntion so that the appropriate antibiotic can be selected.\\nTreatment\\nFrom the results of the culture, the appropriate'), Document(id='b7d3b09c-508a-408a-88cd-c017d220843d', metadata={'producer': 'GPL Ghostscript 9.10', 'creator': '', 'creationdate': '2017-05-01T10:37:35-07:00', 'moddate': '2017-05-01T10:37:35-07:00', 'title': '', 'author': '', 'subject': '', 'keywords': '', 'source': 'data\\\\The_GALE_ENCYCLOPEDIA_of_MEDICINE_SECOND (1).pdf', 'total_pages': 759, 'page': 210, 'page_label': '211'}, page_content='Clotting disorders see Coagulation disorders\\nClubfoot\\nDefinition\\nClubfoot is a condition in which one or both feet are\\ntwisted into an abnormal position at birth. The condition\\nis also known as talipes.\\nDescription\\nTrue clubfoot is characterized by abnormal bone for-\\nmation in the foot. There are four variations of clubfoot,\\nincluding talipes varus, talipes valgus, talipes equines,\\nand talipes calcaneus. In talipes varus, the most common\\nform of clubfoot, the foot generally turns inward so that'), Document(id='7df931a9-d7a8-4808-8fd8-6119e6395020', metadata={'producer': 'GPL Ghostscript 9.10', 'creator': '', 'creationdate': '2017-05-01T10:37:35-07:00', 'moddate': '2017-05-01T10:37:35-07:00', 'title': '', 'author': '', 'subject': '', 'keywords': '', 'source': 'data\\\\The_GALE_ENCYCLOPEDIA_of_MEDICINE_SECOND (1).pdf', 'total_pages': 759, 'page': 557, 'page_label': '558'}, page_content='embolism if untreated.\\nEmboli—Clots or other substances that travel\\nthrough the blood stream and get stuck in an\\nartery, blocking circulation.\\nThrombolytics—Drugs that dissolve blood clots.\\nThrombolytics are used to treat embolisms.\\ngraduated compression stockings and low-dose heparin is\\nsignificantly more effective than low-dose heparin alone.\\nGradient elastic stockings, also called anti-embolism\\nstockings, decrease the risk of blood clots by compress-'), Document(id='44325f80-8270-4b26-a237-b1361936a0e6', metadata={'producer': 'GPL Ghostscript 9.10', 'creator': '', 'creationdate': '2017-05-01T10:37:35-07:00', 'moddate': '2017-05-01T10:37:35-07:00', 'title': '', 'author': '', 'subject': '', 'keywords': '', 'source': 'data\\\\The_GALE_ENCYCLOPEDIA_of_MEDICINE_SECOND (1).pdf', 'total_pages': 759, 'page': 328, 'page_label': '329'}, page_content='anti-inflammatory agents (NSAIDs) are used, with ibupro-\\nfen usually selected as the drug of choice. Other NSAIDS\\noptions are flurbiprofen, mefenamic acid, ketoprofen, and\\nnaproxen. Additional treatment recommendations include\\nthe use of local heat,biofeedback, and gentle stretching of\\nthe pectoralis muscles two to three times a day.\\nFor more difficult cases, where the patient continues\\nto exhibit pain and discomfort, cortisone injections are\\nused as therapy.\\nAlternative treatment'), Document(id='9ac642d7-76ae-4c7f-95c5-945c0c8108c3', metadata={'producer': 'GPL Ghostscript 9.10', 'creator': '', 'creationdate': '2017-05-01T10:37:35-07:00', 'moddate': '2017-05-01T10:37:35-07:00', 'title': '', 'author': '', 'subject': '', 'keywords': '', 'source': 'data\\\\The_GALE_ENCYCLOPEDIA_of_MEDICINE_SECOND (1).pdf', 'total_pages': 759, 'page': 557, 'page_label': '558'}, page_content='severe pulmonary embolism. Streptokinase, urokinase,\\nand recombinant tissue plasminogen activator (TPA) are\\nused. Heparin is the anticoagulant drug of choice for pre-\\nventing formation of blood clots. Warfarin, an oral anti-\\ncoagulant, is sometimes used concurrently and is usually\\ncontinued after the hospitalization.\\nIn the case of an arterial embolism, the affected limb\\nis placed in a dependent position and kept warm.\\nEmbolectomy is the treatment of choice in the majority'), Document(id='2e72734d-8cb9-4a56-ac7c-7dbca150ef3a', metadata={'producer': 'GPL Ghostscript 9.10', 'creator': '', 'creationdate': '2017-05-01T10:37:35-07:00', 'moddate': '2017-05-01T10:37:35-07:00', 'title': '', 'author': '', 'subject': '', 'keywords': '', 'source': 'data\\\\The_GALE_ENCYCLOPEDIA_of_MEDICINE_SECOND (1).pdf', 'total_pages': 759, 'page': 58, 'page_label': '59'}, page_content='filter a fluid called lymph.\\nPneumonia—A disease that inflames the lungs.\\nPus—A thick yellowish or greenish fluid.\\nment of Parinaud’s oculoglandular syndrome occurs when\\nBartonella henselaebacteria pass from a cat’s saliva to its\\nfur during grooming. Rubbing one’s eyes after handling the\\ncat then transmits the bacteria to the conjunctiva.\\nDiagnosis\\nA family doctor should be called whenever a cat\\nscratch or bite fails to heal normally or is followed by a'), Document(id='926527a5-6b9b-47df-b2fc-a348c7fc2ce5', metadata={'producer': 'GPL Ghostscript 9.10', 'creator': '', 'creationdate': '2017-05-01T10:37:35-07:00', 'moddate': '2017-05-01T10:37:35-07:00', 'title': '', 'author': '', 'subject': '', 'keywords': '', 'source': 'data\\\\The_GALE_ENCYCLOPEDIA_of_MEDICINE_SECOND (1).pdf', 'total_pages': 759, 'page': 155, 'page_label': '156'}, page_content='ly articulated, resulting in a condition known as subluxa-\\ntion, the theory is that nerve transmission is disrupted\\nand causes pain and illness manifested in the back as\\nwell as other areas of the body.\\nChiropractic is one of the most popular alternative\\ntherapies currently available. Some would say it now\\nqualifies as mainstream treatment as opposed to comple-\\nmentary medicine. Chiropractic treatment is covered by\\nmany insurance plans. It has become well-accepted treat-'), Document(id='c928050f-8d11-45bf-b581-4324b819d747', metadata={'producer': 'GPL Ghostscript 9.10', 'creator': '', 'creationdate': '2017-05-01T10:37:35-07:00', 'moddate': '2017-05-01T10:37:35-07:00', 'title': '', 'author': '', 'subject': '', 'keywords': '', 'source': 'data\\\\The_GALE_ENCYCLOPEDIA_of_MEDICINE_SECOND (1).pdf', 'total_pages': 759, 'page': 417, 'page_label': '418'}, page_content='burnsfrom gnawing on live power cords.\\nEveryone who participates in contact sports should\\nwear a mouthguard to avoid dental trauma. Athletes in\\nfootball, ice hockey, wrestling, and boxing commonly\\nwear mouthguards. The mandatory use of mouthguards\\nin football prevents about 200,000 oral injuries annually.\\nMouthguards should also be worn along with helmets in\\nnoncontact sports such as skateboarding, in-line skating,\\nGALE ENCYCLOPEDIA OF MEDICINE 2\\n1030\\nDental trauma'), Document(id='99b7c928-84f5-454b-851c-ea2ec761d19a', metadata={'producer': 'GPL Ghostscript 9.10', 'creator': '', 'creationdate': '2017-05-01T10:37:35-07:00', 'moddate': '2017-05-01T10:37:35-07:00', 'title': '', 'author': '', 'subject': '', 'keywords': '', 'source': 'data\\\\The_GALE_ENCYCLOPEDIA_of_MEDICINE_SECOND (1).pdf', 'total_pages': 759, 'page': 732, 'page_label': '733'}, page_content='GALE ENCYCLOPEDIA OF MEDICINE 2\\n1347\\nFolic acid'), Document(id='73c40552-4f8b-44c4-ac90-4156edc75194', metadata={'producer': 'GPL Ghostscript 9.10', 'creator': '', 'creationdate': '2017-05-01T10:37:35-07:00', 'moddate': '2017-05-01T10:37:35-07:00', 'title': '', 'author': '', 'subject': '', 'keywords': '', 'source': 'data\\\\The_GALE_ENCYCLOPEDIA_of_MEDICINE_SECOND (1).pdf', 'total_pages': 759, 'page': 644, 'page_label': '645'}, page_content='tion of a diseased or injured eye.\\nDescription\\nOphthalmic ultrasound equipment sends high fre-\\nquency pulses of sound into the eye, where they bounce\\noff the boundaries between different structures in the eye\\nand produce a distinctive pattern of echoes. This echo\\npattern is received and interpreted by a computer to pro-\\nduce an image on a television screen. The time it takes an\\necho to return to the receiver corresponds to the depth it\\ntraveled into the eye.'), Document(id='5fae3869-e6ed-46d2-a472-18797f6f948b', metadata={'producer': 'GPL Ghostscript 9.10', 'creator': '', 'creationdate': '2017-05-01T10:37:35-07:00', 'moddate': '2017-05-01T10:37:35-07:00', 'title': '', 'author': '', 'subject': '', 'keywords': '', 'source': 'data\\\\The_GALE_ENCYCLOPEDIA_of_MEDICINE_SECOND (1).pdf', 'total_pages': 759, 'page': 729, 'page_label': '730'}, page_content='forms. Examples of these medicines are moxifloxacin\\n(Avelox), ciprofloxacin (Cipro), ofloxacin (Floxin), lev-\\nofloxacin (Levaquin), lomefloxacin (Maxaquin), nor-\\nGALE ENCYCLOPEDIA OF MEDICINE 21344\\nFluoroquinolones'), Document(id='4e3589a6-d481-4a93-8be7-f905dad5719d', metadata={'producer': 'GPL Ghostscript 9.10', 'creator': '', 'creationdate': '2017-05-01T10:37:35-07:00', 'moddate': '2017-05-01T10:37:35-07:00', 'title': '', 'author': '', 'subject': '', 'keywords': '', 'source': 'data\\\\The_GALE_ENCYCLOPEDIA_of_MEDICINE_SECOND (1).pdf', 'total_pages': 759, 'page': 557, 'page_label': '558'}, page_content='Radionuclide venography, in which a radioactive isotope\\nis injected, is occasionally used, especially if a patient\\nhas had reactions to contrast solutions. Venous ultra-\\nsound is the preferred evaluation of leg veins.\\nTreatment\\nPatients with emboli require immediate hospitaliza-\\ntion. They are generally treated with clot-dissolving\\nand/or clot-preventing drugs. Thrombolytic therapy to\\ndissolve blood clots is the definitive treatment for a very'), Document(id='e6d87519-ac30-4abe-9ede-2010aab5ce69', metadata={'producer': 'GPL Ghostscript 9.10', 'creator': '', 'creationdate': '2017-05-01T10:37:35-07:00', 'moddate': '2017-05-01T10:37:35-07:00', 'title': '', 'author': '', 'subject': '', 'keywords': '', 'source': 'data\\\\The_GALE_ENCYCLOPEDIA_of_MEDICINE_SECOND (1).pdf', 'total_pages': 759, 'page': 219, 'page_label': '220'}, page_content='abuse, known as “cat,” that is similar to methampheta-\\nmine) to create a “wildcat.” A hollowed-out cigar filled\\nwith a mixture of crack and marijuana is known as a\\n“woolah.” And either cocaine or crack used in conjunc-\\ntion with heroin is called a “speedball.” Cocaine used\\ntogether with alcohol represents the most common fatal\\ntwo-drug combination.\\nHistory\\nCocaine is one of the oldest known psychoactive\\ndrugs. Coca leaves, the source of cocaine, were used by'), Document(id='025919c4-30b5-45aa-a21d-3363eb080d7f', metadata={'producer': 'GPL Ghostscript 9.10', 'creator': '', 'creationdate': '2017-05-01T10:37:35-07:00', 'moddate': '2017-05-01T10:37:35-07:00', 'title': '', 'author': '', 'subject': '', 'keywords': '', 'source': 'data\\\\The_GALE_ENCYCLOPEDIA_of_MEDICINE_SECOND (1).pdf', 'total_pages': 759, 'page': 209, 'page_label': '210'}, page_content='side the digestive tract.\\nTetanus toxoid—Tetanus toxoid is a vaccine used\\nto prevent tetanus (also known as lockjaw).\\nInfected clenched fist injuries usually contain sever-\\nal disease-causing bacteria, the most common being\\nStreptococcus pyogenes, Staphylococcus aureus , Bac-\\nteroides sp., Peptostreptococcus sp., and Eikenella corro-\\ndens. Broad-spectrum antibiotics are usually given.\\nUninfected and relatively superficial CFIs may be treated'), Document(id='b6a66023-52c5-4662-86c6-2bfd282ea54d', metadata={'producer': 'GPL Ghostscript 9.10', 'creator': '', 'creationdate': '2017-05-01T10:37:35-07:00', 'moddate': '2017-05-01T10:37:35-07:00', 'title': '', 'author': '', 'subject': '', 'keywords': '', 'source': 'data\\\\The_GALE_ENCYCLOPEDIA_of_MEDICINE_SECOND (1).pdf', 'total_pages': 759, 'page': 57, 'page_label': '58'}, page_content='where antibodies were found in 71% of the cats tested.\\nThe bacterium, which remains in a cat’s bloodstream for\\nseveral months after infection, seems to be harmless to\\nmost cats, and normally an infected cat will not display\\nany symptoms. Kittens (cats less than one year old) are\\nmore likely than adult cats to be carrying the infection.\\nBartonella henselae can infect people who are\\nscratched or (more rarely) bitten or licked by a cat. It\\ncannot be passed from person to person. Although cats'), Document(id='7109d58a-4af2-48ca-8292-3ee81012f5f2', metadata={'producer': 'GPL Ghostscript 9.10', 'creator': '', 'creationdate': '2017-05-01T10:37:35-07:00', 'moddate': '2017-05-01T10:37:35-07:00', 'title': '', 'author': '', 'subject': '', 'keywords': '', 'source': 'data\\\\The_GALE_ENCYCLOPEDIA_of_MEDICINE_SECOND (1).pdf', 'total_pages': 759, 'page': 277, 'page_label': '278'}, page_content='tions. X rays of the urinary system or a cystoscopy\\n(examination with a telescope-like instrument) will\\nidentify them. Often, the two procedures are done\\ntogether: a urologist will perform the cystoscopy, then a\\nradiologist will instill a contrast agent into the bladder\\nand take x rays.\\nTreatment\\nSurgery is necessary and can usually produce suc-\\ncessful results. If possible, the surgery must be done\\nwithin 48 hours of birth. Prior to surgery, the exposed'), Document(id='37f20fe5-873c-4ec2-a6f6-85cb667484cc', metadata={'producer': 'GPL Ghostscript 9.10', 'creator': '', 'creationdate': '2017-05-01T10:37:35-07:00', 'moddate': '2017-05-01T10:37:35-07:00', 'title': '', 'author': '', 'subject': '', 'keywords': '', 'source': 'data\\\\The_GALE_ENCYCLOPEDIA_of_MEDICINE_SECOND (1).pdf', 'total_pages': 759, 'page': 369, 'page_label': '370'}, page_content='Treatment\\nSeveral different medications have given good\\nresults in small trials. The antimigraine drugs\\namitriptyline and cyproheptadine performed well for one\\nstudy group. Propanolol is sometimes effective, and ery-\\nthromycin helped several patients in one study, not\\nbecause it is an antibiotic but because it irritates the\\nstomach and encourages it to move its contents forward\\ninstead of in reverse.\\nAlternative treatment\\nConstitutional homeopathic medicine can work well'), Document(id='efd5609f-c217-4518-97c2-728f62bd553d', metadata={'producer': 'GPL Ghostscript 9.10', 'creator': '', 'creationdate': '2017-05-01T10:37:35-07:00', 'moddate': '2017-05-01T10:37:35-07:00', 'title': '', 'author': '', 'subject': '', 'keywords': '', 'source': 'data\\\\The_GALE_ENCYCLOPEDIA_of_MEDICINE_SECOND (1).pdf', 'total_pages': 759, 'page': 666, 'page_label': '667'}, page_content='Fallopian tube ligation see Tubal ligation\\nFallopian tube removal see Salpingectomy\\nFallopian tube x rays see\\nHysterosalpingography\\nFamciclovir see Antiviral drugs\\nFamilial Mediterranean fever\\nDefinition\\nFamilial Mediterranean fever (FMF) is an inherited\\ndisorder of the inflammatory response characterized by\\nrecurring attacks of fever, accompanied by intense pain\\nin the abdomen, chest, or joints. Attacks usually last\\n12–72 hours, and can occasionally involve a skin rash.'), Document(id='2a703e22-1537-4c8f-bf51-1ebd6997ed45', metadata={'producer': 'GPL Ghostscript 9.10', 'creator': '', 'creationdate': '2017-05-01T10:37:35-07:00', 'moddate': '2017-05-01T10:37:35-07:00', 'title': '', 'author': '', 'subject': '', 'keywords': '', 'source': 'data\\\\The_GALE_ENCYCLOPEDIA_of_MEDICINE_SECOND (1).pdf', 'total_pages': 759, 'page': 669, 'page_label': '670'}, page_content='Some years ago, colchicine was discovered to also be\\neffective in reducing the frequency and severity of\\nattacks in FMF. Treatment for FMF at this point consists\\nof taking colchicine daily. Studies have shown that about\\n75% of FMF patients achieve complete remission of\\ntheir symptoms, and about 95% show marked improve-\\nment when taking colchicine. Lower effectiveness has\\nbeen reported, but there is some question about the num-\\nber of FMF patients who choose not to take their'), Document(id='2a3b4f4b-4f13-4cf4-9e87-b1705bdc37ca', metadata={'producer': 'GPL Ghostscript 9.10', 'creator': '', 'creationdate': '2017-05-01T10:37:35-07:00', 'moddate': '2017-05-01T10:37:35-07:00', 'title': '', 'author': '', 'subject': '', 'keywords': '', 'source': 'data\\\\The_GALE_ENCYCLOPEDIA_of_MEDICINE_SECOND (1).pdf', 'total_pages': 759, 'page': 722, 'page_label': '723'}, page_content='exploratory surgery, during which samples are collected\\nfor bacterial identification.\\nTreatment\\nRapid, aggressive medical treatment, specifically,\\nantibiotic therapy and surgical debridement, is impera-\\ntive. Antibiotics may include penicillin, an aminoglyco-\\nside or third-generation cephalosporin, and clindamycin\\nor metronidazole. Analgesics are employed for pain con-\\ntrol. During surgical debridement, dead tissue is stripped\\naway. After surgery, patients are rigorously monitored for'), Document(id='96f93e0b-411b-4c98-bf83-d8e3877b0eb3', metadata={'producer': 'GPL Ghostscript 9.10', 'creator': '', 'creationdate': '2017-05-01T10:37:35-07:00', 'moddate': '2017-05-01T10:37:35-07:00', 'title': '', 'author': '', 'subject': '', 'keywords': '', 'source': 'data\\\\The_GALE_ENCYCLOPEDIA_of_MEDICINE_SECOND (1).pdf', 'total_pages': 759, 'page': 140, 'page_label': '141'}, page_content='including chickenpox.\\nreceive their measles-mumps-rubella vaccine. For older\\nchildren, up to age 12, the CDC recommends vaccina-\\ntion when a reliable determination that the child in\\nquestion has already had chickenpox cannot be made.\\nVaccination is also recommended for any older child or\\nadult considered susceptible to the disease, particularly\\nthose, such as health care workers and women of child-\\nbearing age, who face a greater likelihood of severe ill-'), Document(id='a678d8af-cdde-4676-a05d-4417fb3548c4', metadata={'producer': 'GPL Ghostscript 9.10', 'creator': '', 'creationdate': '2017-05-01T10:37:35-07:00', 'moddate': '2017-05-01T10:37:35-07:00', 'title': '', 'author': '', 'subject': '', 'keywords': '', 'source': 'data\\\\The_GALE_ENCYCLOPEDIA_of_MEDICINE_SECOND (1).pdf', 'total_pages': 759, 'page': 381, 'page_label': '382'}, page_content='not respond as well to short-term treatment and\\nrequire seven to 10 days of oral antibiotics for uncom-\\nplicated UTIs.\\nPatients of either sex may be given phenazopyridine\\nor flavoxate to relieve painful urination.\\nTrimethoprim and nitrofurantoin are preferred for\\ntreating recurrent UTIs in women.\\nOver 50% of older men with UTIs also suffer\\nfrom infection of the prostate gland. Some antibiotics,\\nincluding amoxicillin and the cephalosporins, do not'), Document(id='f8cd7876-caa8-469d-98f0-33cb5c39efb0', metadata={'producer': 'GPL Ghostscript 9.10', 'creator': '', 'creationdate': '2017-05-01T10:37:35-07:00', 'moddate': '2017-05-01T10:37:35-07:00', 'title': '', 'author': '', 'subject': '', 'keywords': '', 'source': 'data\\\\The_GALE_ENCYCLOPEDIA_of_MEDICINE_SECOND (1).pdf', 'total_pages': 759, 'page': 211, 'page_label': '212'}, page_content='shows the bones to be malformed or misaligned supplies\\na confirmed diagnosis of clubfoot. Ultrasonography is\\nnot always useful in diagnosing the presence of clubfoot\\nprior to the birth of a child.\\nTreatment\\nMost orthopedic surgeons agree that the initial treat-\\nment of congenital (present at birth) clubfoot should be\\nnon-operative. Non-surgical treatment should begin in\\nthe first days of life to take advantage of the favorable\\nfibro-elastic properties of the foot’s connective tissues,'), Document(id='6f9e3535-56df-47d1-80d4-f1bd4ab725e2', metadata={'producer': 'GPL Ghostscript 9.10', 'creator': '', 'creationdate': '2017-05-01T10:37:35-07:00', 'moddate': '2017-05-01T10:37:35-07:00', 'title': '', 'author': '', 'subject': '', 'keywords': '', 'source': 'data\\\\The_GALE_ENCYCLOPEDIA_of_MEDICINE_SECOND (1).pdf', 'total_pages': 759, 'page': 292, 'page_label': '293'}, page_content='the allergic substance from a person’s environment, if\\npossible; by applying cool compresses to the eye; and by\\nadministering eye drops four to six times daily for four\\ndays. Also, the antihistamine diphenhydramine\\nhydrochloride (Benadryl) may help to relieve itchy eyes.\\nAlternative treatment\\nConjunctivitis caused by gonococcal and chlamydial\\ninfection usually requires conventional medical treat-\\nment. With bacterial, viral, and allergic conjunctivitis,'), Document(id='a70d8365-7756-434c-b754-161962f96e67', metadata={'producer': 'GPL Ghostscript 9.10', 'creator': '', 'creationdate': '2017-05-01T10:37:35-07:00', 'moddate': '2017-05-01T10:37:35-07:00', 'title': '', 'author': '', 'subject': '', 'keywords': '', 'source': 'data\\\\The_GALE_ENCYCLOPEDIA_of_MEDICINE_SECOND (1).pdf', 'total_pages': 759, 'page': 599, 'page_label': '600'}, page_content='brospinal fluid, or blood. Cultures from other areas, such\\nas the throat, can be misleading. This is because the virus\\nmay remain for long periods of time in places with a large\\namount of lymphatic tissue. As a rule, cultures done early\\nin the illness are more likely to identify the virus.\\nNew techniques that involve identification of viral\\ngenetic material (PCR) are useful in certain cases, but are\\nnot indicated for routine testing.\\nTreatment\\nAs noted above, enterovirus is capable of attacking'), Document(id='d8d2c5e7-bb11-4002-99ea-6097c9370bae', metadata={'producer': 'GPL Ghostscript 9.10', 'creator': '', 'creationdate': '2017-05-01T10:37:35-07:00', 'moddate': '2017-05-01T10:37:35-07:00', 'title': '', 'author': '', 'subject': '', 'keywords': '', 'source': 'data\\\\The_GALE_ENCYCLOPEDIA_of_MEDICINE_SECOND (1).pdf', 'total_pages': 759, 'page': 470, 'page_label': '471'}, page_content='Description\\nIn a healthy joint, the bones are normally held\\ntogether with tough, fibrous bands called ligaments.\\nThese ligaments are attached to each bone along with a\\nfibrous sac surrounding the joint called the articular cap-\\nsule or joint capsule. The ligaments and joint capsule are\\nrelatively strong and nonelastic but permit movement\\nwithin normal limits for each particular joint. In the event\\nof a dislocation, one of the bones making up the joint is'), Document(id='9d881907-fc06-420e-ac30-91cdec32c502', metadata={'producer': 'GPL Ghostscript 9.10', 'creator': '', 'creationdate': '2017-05-01T10:37:35-07:00', 'moddate': '2017-05-01T10:37:35-07:00', 'title': '', 'author': '', 'subject': '', 'keywords': '', 'source': 'data\\\\The_GALE_ENCYCLOPEDIA_of_MEDICINE_SECOND (1).pdf', 'total_pages': 759, 'page': 678, 'page_label': '679'}, page_content='oldest therapies in medicine. Many of the great doctors\\nof ancient times and many of the oldest healing systems\\nhave recommended it as an integral method of healing\\nand prevention. Hippocrates, the father of Western medi-\\ncine, believed fasting enabled the body to heal itself.\\nParacelsus, another great healer in the Western tradition,\\nwrote 500 years ago that “fasting is the greatest remedy,\\nthe physician within.”Ayurvedic medicine, the world’s'), Document(id='8a594a8c-9b15-463a-9ed0-30ff17824f3c', metadata={'producer': 'GPL Ghostscript 9.10', 'creator': '', 'creationdate': '2017-05-01T10:37:35-07:00', 'moddate': '2017-05-01T10:37:35-07:00', 'title': '', 'author': '', 'subject': '', 'keywords': '', 'source': 'data\\\\The_GALE_ENCYCLOPEDIA_of_MEDICINE_SECOND (1).pdf', 'total_pages': 759, 'page': 729, 'page_label': '730'}, page_content='J. Delves. London: Academic Press, 1992.\\nWeinberg, Adriana, and Myron J. Levin. “Infections: Parasitic\\n& Mycotic.” In Current Pediatric Diagnosis & Treatment,\\ned. William W. Hay Jr., et al. Stamford: Appleton &\\nLange, 1997.\\nRebecca J. Frey\\nFluoroquinolones\\nDefinition\\nFluoroquinolones are medicines that kill bacteria or\\nprevent their growth.\\nPurpose\\nFluoroquinolones are antibiotics, medicines used to\\ntreat infections caused by microorganisms. Physicians'), Document(id='35beda14-81a3-4dd0-aeaf-e63a8e0fe97c', metadata={'producer': 'GPL Ghostscript 9.10', 'creator': '', 'creationdate': '2017-05-01T10:37:35-07:00', 'moddate': '2017-05-01T10:37:35-07:00', 'title': '', 'author': '', 'subject': '', 'keywords': '', 'source': 'data\\\\The_GALE_ENCYCLOPEDIA_of_MEDICINE_SECOND (1).pdf', 'total_pages': 759, 'page': 676, 'page_label': '677'}, page_content='arating, the muscles and internal organs of the body. It\\nvaries in thickness, density, elasticity, and composition,\\nand is different from ligaments and tendons.\\nThe fascia can be injured either through constant\\nstrain or through trauma. Fasciitis is an inflammation of\\nthe fascia. The most common condition for which fas-\\nciotomy is performed is plantar fasciitis, an inflamma-\\ntion of the fascia on the bottom of the foot that is some-\\ntimes called a heel spur or stone bruise.'), Document(id='b72f377c-a2db-46d5-af9f-0dad738ec698', metadata={'producer': 'GPL Ghostscript 9.10', 'creator': '', 'creationdate': '2017-05-01T10:37:35-07:00', 'moddate': '2017-05-01T10:37:35-07:00', 'title': '', 'author': '', 'subject': '', 'keywords': '', 'source': 'data\\\\The_GALE_ENCYCLOPEDIA_of_MEDICINE_SECOND (1).pdf', 'total_pages': 759, 'page': 210, 'page_label': '211'}, page_content='the leg and foot look somewhat like the letter J. In talipes\\nvalgus, the foot rotates outward like the letter L. In tal-\\nipes equinus, the foot points downward, similar to that of\\na toe dancer. In talipes calcaneus, the foot points upward,\\nwith the heel pointing down.\\nClubfoot can affect one foot or both. Sometimes an\\ninfant’s feet appear abnormal at birth because of the\\nintrauterine position of the fetus birth. If there is no\\nanatomic abnormality of the bone, this is not true club-'), Document(id='6348dd24-d832-4919-a448-aa9551267a42', metadata={'producer': 'GPL Ghostscript 9.10', 'creator': '', 'creationdate': '2017-05-01T10:37:35-07:00', 'moddate': '2017-05-01T10:37:35-07:00', 'title': '', 'author': '', 'subject': '', 'keywords': '', 'source': 'data\\\\The_GALE_ENCYCLOPEDIA_of_MEDICINE_SECOND (1).pdf', 'total_pages': 759, 'page': 78, 'page_label': '79'}, page_content='the most sensitive. A lumbar puncture and analysis of the\\ncerebrospinal fluid can help diagnose an epidural\\nabscess; however, the procedure can be dangerous in\\ncases of subdural empyema.\\nTreatment\\nA two-pronged approach is taken to treat CNS infec-\\ntions. First, antibiotic therapy against an array of potential\\ninfectious bacteria is begun. The second stage involves\\nsurgery to drain the infected site. Although some CNS\\ninfections have been resolved with antibiotics alone, the'), Document(id='42673a8a-40b8-4990-8605-54decc3403b6', metadata={'producer': 'GPL Ghostscript 9.10', 'creator': '', 'creationdate': '2017-05-01T10:37:35-07:00', 'moddate': '2017-05-01T10:37:35-07:00', 'title': '', 'author': '', 'subject': '', 'keywords': '', 'source': 'data\\\\The_GALE_ENCYCLOPEDIA_of_MEDICINE_SECOND (1).pdf', 'total_pages': 759, 'page': 57, 'page_label': '58'}, page_content='cat to cat by fleas. Researchers have discovered that large\\nnumbers of North American cats carry antibodies for the\\ndisease (meaning that the cats have been infected at some\\npoint in their lives). Some parts of North America have\\nmuch higher rates of cat infection than others, however.\\nBartonella henselaeis uncommon or absent in cold cli-\\nmates, which fleas have difficulty tolerating, but preva-\\nlent in warm, humid places such as Memphis, Tennessee,'), Document(id='658d657f-1b15-452f-a4bc-091f26bcf184', metadata={'producer': 'GPL Ghostscript 9.10', 'creator': '', 'creationdate': '2017-05-01T10:37:35-07:00', 'moddate': '2017-05-01T10:37:35-07:00', 'title': '', 'author': '', 'subject': '', 'keywords': '', 'source': 'data\\\\The_GALE_ENCYCLOPEDIA_of_MEDICINE_SECOND (1).pdf', 'total_pages': 759, 'page': 735, 'page_label': '736'}, page_content='Follicle-stimulating \\nhormone test\\nDefinition\\nThe follicle-stimulating hormone (FSH) test measures\\nthe amount of FSH in the blood. FSH is a hormone that\\nregulates the growth and development of eggs and sperm,\\nand this test is used to diagnose or evaluate disorders\\ninvolving the pituitary gland and reproductive system.\\nPurpose\\nFSH testing is performed if a physician suspects the\\npatient may have a disorder involving the reproductive\\nsystem or pituitary gland. The pituitary gland produces'), Document(id='9a68f4be-93df-4b8a-a89f-b70920116edd', metadata={'producer': 'GPL Ghostscript 9.10', 'creator': '', 'creationdate': '2017-05-01T10:37:35-07:00', 'moddate': '2017-05-01T10:37:35-07:00', 'title': '', 'author': '', 'subject': '', 'keywords': '', 'source': 'data\\\\The_GALE_ENCYCLOPEDIA_of_MEDICINE_SECOND (1).pdf', 'total_pages': 759, 'page': 146, 'page_label': '147'}, page_content='risks and make a decision on whether to deliver via a\\ncesarean sectionor attempt a vaginal birth. The extent of\\nthe risk depends to a great extent on the type of breech pre-\\nsentation—of which there are three. Frank breech (the\\nbaby’s legs are folded up against its body) is the most com-\\nmon and the safest for vaginal delivery. The other types are\\ncomplete breech (in which the baby’s legs are crossed\\nunder and in front of the body) and footling breech (in'), Document(id='1e2c185a-e7f0-473e-94d0-4bd47003a4b6', metadata={'producer': 'GPL Ghostscript 9.10', 'creator': '', 'creationdate': '2017-05-01T10:37:35-07:00', 'moddate': '2017-05-01T10:37:35-07:00', 'title': '', 'author': '', 'subject': '', 'keywords': '', 'source': 'data\\\\The_GALE_ENCYCLOPEDIA_of_MEDICINE_SECOND (1).pdf', 'total_pages': 759, 'page': 401, 'page_label': '402'}, page_content='around the patient’s ankle and a transducer with gel on it\\nis placed over pulse points of the foot and lower leg.\\nHigh-frequency sounds bounce off the soft tissue, and\\nthe echoes are converted into images on a monitor. It is\\nvery accurate in detecting clots above the knee that can\\nbecome pulmonary embolisms. Usually performed in a\\nphysician’s office or hospital outpatient diagnostic cen-\\nter, Doppler ultrasound usually takes 30–45 minutes.\\nImpedance plethysmography records changes in'), Document(id='8930e218-1c78-4484-a5a6-3a0cac9a239c', metadata={'producer': 'GPL Ghostscript 9.10', 'creator': '', 'creationdate': '2017-05-01T10:37:35-07:00', 'moddate': '2017-05-01T10:37:35-07:00', 'title': '', 'author': '', 'subject': '', 'keywords': '', 'source': 'data\\\\The_GALE_ENCYCLOPEDIA_of_MEDICINE_SECOND (1).pdf', 'total_pages': 759, 'page': 248, 'page_label': '249'}, page_content='guishing blue and yellow colors.\\nRetina—The light-sensitive layer of tissue in the\\nback of the eye that receives and transmits visual\\nsignals to the brain through the optic nerve.\\nRod—Photoreceptor that is highly sensitive to low\\nlevels of light and transmits images in shades of gray.\\nnumber that is clearly located somewhere in the center of\\na circle of variously colored dots. A color-blind person is\\nnot able to distinguish the number.\\nThe Ishihara test is comprised of eight plates that are'), Document(id='0193e000-b15d-4de2-8083-43ad336edc12', metadata={'producer': 'GPL Ghostscript 9.10', 'creator': '', 'creationdate': '2017-05-01T10:37:35-07:00', 'moddate': '2017-05-01T10:37:35-07:00', 'title': '', 'author': '', 'subject': '', 'keywords': '', 'source': 'data\\\\The_GALE_ENCYCLOPEDIA_of_MEDICINE_SECOND (1).pdf', 'total_pages': 759, 'page': 623, 'page_label': '624'}, page_content='Prevention\\nThorough cooking of all meat and poultry products\\nand adhering to proper food preparation is the most\\nKEY TERMS\\nAntigen —A substance, usually a protein, that\\ncauses the formation of an antibody and reacts\\nspecifically with that antibody.\\nAnti-motility medications—Medications such as\\nloperamide (Imodium), dephenoxylate (Lomotil),\\nor medications containing Codeine or narcotics\\nwhich decrease the ability of the intestine to con-\\ntract. This can worsen the condition of a patient'), Document(id='7b2d7452-85b7-46e1-8908-a00f965ada26', metadata={'producer': 'GPL Ghostscript 9.10', 'creator': '', 'creationdate': '2017-05-01T10:37:35-07:00', 'moddate': '2017-05-01T10:37:35-07:00', 'title': '', 'author': '', 'subject': '', 'keywords': '', 'source': 'data\\\\The_GALE_ENCYCLOPEDIA_of_MEDICINE_SECOND (1).pdf', 'total_pages': 759, 'page': 311, 'page_label': '312'}, page_content='heels\\n• tight socks or stockings\\n• deformed toes\\nGALE ENCYCLOPEDIA OF MEDICINE 2\\n923\\nCorns and calluses\\nCorns on toes. (Custom Medical Stock Photo. Reproduced by\\npermission.)'), Document(id='93bba0c9-1d09-40b4-bfb9-9d08f1c51f64', metadata={'producer': 'GPL Ghostscript 9.10', 'creator': '', 'creationdate': '2017-05-01T10:37:35-07:00', 'moddate': '2017-05-01T10:37:35-07:00', 'title': '', 'author': '', 'subject': '', 'keywords': '', 'source': 'data\\\\The_GALE_ENCYCLOPEDIA_of_MEDICINE_SECOND (1).pdf', 'total_pages': 759, 'page': 465, 'page_label': '466'}, page_content='given at 18 months and at entry into school. Adults\\nshould be immunized at 10 year intervals with Td\\n(tetanus-diphtheria) toxoid. A toxoid is a bacterial toxin\\nthat is treated to make it harmless but still can induce\\nimmunity to the disease.\\nGALE ENCYCLOPEDIA OF MEDICINE 2\\n1078\\nDiphtheria'), Document(id='1e01eba1-07bb-4754-94c6-ef2d87f1c3df', metadata={'producer': 'GPL Ghostscript 9.10', 'creator': '', 'creationdate': '2017-05-01T10:37:35-07:00', 'moddate': '2017-05-01T10:37:35-07:00', 'title': '', 'author': '', 'subject': '', 'keywords': '', 'source': 'data\\\\The_GALE_ENCYCLOPEDIA_of_MEDICINE_SECOND (1).pdf', 'total_pages': 759, 'page': 284, 'page_label': '285'}, page_content='courses of antibiotics . Over time, the infecting germs\\ndevelop resistance to most treatments, especially the\\nsafer ones. If it can be done with acceptable risk, it is bet-\\nter to repair the defect surgically. Urologists have an\\narsenal of approaches to urine drainage that range from\\nsimply reimplanting a ureter into the bladder, in such a\\nway that an effective valve is created, to building a new\\nbladder out of a piece of bowel.\\nAlternative treatment')]\n"
     ]
    }
   ],
   "source": [
    "user_query=input(\"Write Query Here:\")\n",
    "response=qa_chain.invoke({'query':user_query})\n",
    "print(\"RESULT:\", response['result'])\n",
    "print(\"Source Document:\", response['source_documents'])"
   ]
  }
 ],
 "metadata": {
  "kernelspec": {
   "display_name": "vitabot",
   "language": "python",
   "name": "python3"
  },
  "language_info": {
   "codemirror_mode": {
    "name": "ipython",
    "version": 3
   },
   "file_extension": ".py",
   "mimetype": "text/x-python",
   "name": "python",
   "nbconvert_exporter": "python",
   "pygments_lexer": "ipython3",
   "version": "3.13.2"
  }
 },
 "nbformat": 4,
 "nbformat_minor": 2
}
